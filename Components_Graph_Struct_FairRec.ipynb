{
 "cells": [
  {
   "cell_type": "code",
   "execution_count": 2,
   "metadata": {},
   "outputs": [],
   "source": [
    "import networkx as nx"
   ]
  },
  {
   "cell_type": "code",
   "execution_count": 3,
   "metadata": {},
   "outputs": [
    {
     "name": "stdout",
     "output_type": "stream",
     "text": [
      "27860\n",
      "109038\n"
     ]
    }
   ],
   "source": [
    "filename = 'dblp_graph_replaced'\n",
    "G = nx.read_edgelist(filename, delimiter=\"\\t\", create_using=nx.Graph(), nodetype=int)\n",
    "print(len(G.nodes))\n",
    "print(len(G.edges))"
   ]
  },
  {
   "cell_type": "code",
   "execution_count": 4,
   "metadata": {},
   "outputs": [],
   "source": [
    "largest_cc = max(nx.connected_components(G), key=len)"
   ]
  },
  {
   "cell_type": "code",
   "execution_count": 5,
   "metadata": {},
   "outputs": [
    {
     "data": {
      "text/plain": [
       "23916"
      ]
     },
     "execution_count": 5,
     "metadata": {},
     "output_type": "execute_result"
    }
   ],
   "source": [
    "len(largest_cc)"
   ]
  },
  {
   "cell_type": "code",
   "execution_count": 16,
   "metadata": {},
   "outputs": [],
   "source": [
    "S = G.subgraph(largest_cc).copy()\n",
    "print(len(S.nodes))\n",
    "print(len(S.edges))"
   ]
  },
  {
   "cell_type": "code",
   "execution_count": 21,
   "metadata": {},
   "outputs": [],
   "source": [
    "nx.write_edgelist(S, \"test.edgelist\", data=False)"
   ]
  },
  {
   "cell_type": "code",
   "execution_count": 35,
   "metadata": {},
   "outputs": [],
   "source": [
    "f = open(\"dblp_authors_ids_replaced\", \"r\")\n",
    "w = open(\"dblp_authors_ids_c\", \"w\")\n",
    "for x in f:\n",
    "    s,t,g = x.split('\\t')\n",
    "    if s == '':\n",
    "        continue\n",
    "    if int(s) in largest_cc:\n",
    "        w.write(x)\n",
    "f.close()\n",
    "w.close()"
   ]
  },
  {
   "cell_type": "code",
   "execution_count": 36,
   "metadata": {},
   "outputs": [],
   "source": [
    "f = open(\"dblp_authors_pubs_replaced\", \"r\")\n",
    "w = open(\"dblp_authors_pubs_c\", \"w\")\n",
    "for x in f:\n",
    "    s,t,g = x.split('\\t')\n",
    "    if s == '':\n",
    "        continue\n",
    "    if int(s) in largest_cc:\n",
    "        w.write(x)\n",
    "f.close()\n",
    "w.close()"
   ]
  },
  {
   "cell_type": "code",
   "execution_count": null,
   "metadata": {},
   "outputs": [],
   "source": [
    "f = open(\"test.edgelist\", \"r\")\n",
    "w = open(\"dblp_cc\", \"w\")\n",
    "id = 0\n",
    "id_map = dict()\n",
    "for x in f:\n",
    "    src,tgt = x.split()\n",
    "    if src in id_map:\n",
    "        src = id_map[src]\n",
    "    else:\n",
    "        id_map[src] = id\n",
    "        src = id\n",
    "        id+= 1\n",
    "    if tgt in id_map:\n",
    "        tgt = id_map[tgt]\n",
    "    else:\n",
    "        id_map[tgt] = id\n",
    "        tgt = id\n",
    "        id+= 1\n",
    "    w.write(str(src) + \"\\t\" + str(tgt) + \"\\n\")\n",
    "f.close()\n",
    "w.close()"
   ]
  },
  {
   "cell_type": "code",
   "execution_count": 51,
   "metadata": {},
   "outputs": [],
   "source": [
    "def replace(inp, out, ids):\n",
    "    f = open(inp, \"r\")\n",
    "    lines = []\n",
    "    for x in f:\n",
    "        id, v, v1 = x.split(\"\\t\")\n",
    "        lines.append(str(ids[id]) + \"\\t\" + v + \"\\t\" + v1)\n",
    "    f.close()\n",
    "\n",
    "    # sort lines\n",
    "    lines.sort(key=lambda line: int(line.split()[0]))\n",
    "\n",
    "    with open(out, 'w') as fh:\n",
    "        fh.writelines(lines)"
   ]
  },
  {
   "cell_type": "code",
   "execution_count": 52,
   "metadata": {},
   "outputs": [],
   "source": [
    "replace(\"dblp_authors_ids_c\", \"dblp_authors_ids_cc\", id_map)\n",
    "replace(\"dblp_authors_pubs_c\", \"dblp_authors_pubs_cc\", id_map)"
   ]
  },
  {
   "cell_type": "code",
   "execution_count": null,
   "metadata": {},
   "outputs": [],
   "source": []
  },
  {
   "cell_type": "code",
   "execution_count": 8,
   "metadata": {},
   "outputs": [
    {
     "name": "stdout",
     "output_type": "stream",
     "text": [
      "5588\n"
     ]
    }
   ],
   "source": [
    "count = 0\n",
    "w = open(\"out_community_p.txt\", \"w\")\n",
    "w.write(\"2\\n\")\n",
    "with open(\"dblp_authors_pubs_cc\", 'r') as f:\n",
    "    for x in f:\n",
    "        id,year,num = x.split()\n",
    "        if int(year) >= 2016:\n",
    "            count = count + 1\n",
    "            w.write(f\"{id}\\t1\\n\")\n",
    "        else:\n",
    "            w.write(f\"{id}\\t0\\n\")\n",
    "w.close()\n",
    "print(count)"
   ]
  },
  {
   "cell_type": "code",
   "execution_count": null,
   "metadata": {},
   "outputs": [],
   "source": [
    "with open(out, 'w') as fh:\n",
    "    fh.writelines(lines)"
   ]
  }
 ],
 "metadata": {
  "kernelspec": {
   "display_name": "Python 3",
   "language": "python",
   "name": "python3"
  },
  "language_info": {
   "codemirror_mode": {
    "name": "ipython",
    "version": 3
   },
   "file_extension": ".py",
   "mimetype": "text/x-python",
   "name": "python",
   "nbconvert_exporter": "python",
   "pygments_lexer": "ipython3",
   "version": "3.8.5"
  }
 },
 "nbformat": 4,
 "nbformat_minor": 4
}
